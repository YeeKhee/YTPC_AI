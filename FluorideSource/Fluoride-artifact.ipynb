{
 "cells": [
  {
   "cell_type": "code",
   "execution_count": null,
   "metadata": {},
   "outputs": [],
   "source": [
    "# Load Library\n",
    "from ai_core_sdk.ai_core_v2_client import AICoreV2Client\n",
    "\n",
    " \n",
    "\n",
    "# Create Connection\n",
    "ai_core_client = AICoreV2Client(\n",
    "    base_url = \"https://api.ai.prod.ap-southeast-2.aws.ml.hana.ondemand.com\" + \"/v2\", # The present SAP AI Core API version is 2\n",
    "    auth_url=  \"https://sap-ey-hackathon-2023-ebohs8vc.authentication.ap10.hana.ondemand.com\" + \"/oauth/token\", # Suffix to add\n",
    "    client_id = \"sb-185acfa1-b22b-4d5f-a0a3-4623b7b2549c!b28356|aicore!b1456\",\n",
    "    client_secret = \"0d2ed7ef-63e3-45a9-883c-b863685ba5a4$Oznw74xyvpxaBIEDjXF-MfePM3EKwbE9E-mojoDFEwA=\"\n",
    ")"
   ]
  },
  {
   "cell_type": "code",
   "execution_count": null,
   "metadata": {},
   "outputs": [],
   "source": [
    "# Create Artifact\n",
    "from ai_api_client_sdk.models.artifact import Artifact\n",
    "from ai_api_client_sdk.models.label import Label\n",
    "\n",
    "response = ai_core_client.artifact.create(\n",
    "    name = \"Fluoride Dataset 101\", # Custom Non-unqiue identifier\n",
    "    kind = Artifact.Kind.DATASET,\n",
    "    url = \"ai://my-s3-secret4/data/jan\", #\n",
    "    scenario_id = \"learning-datalines-fl\",\n",
    "    description = \"Prices in the month of Jan\",\n",
    "    labels = [\n",
    "        Label(key=\"ext.ai.sap.com/month\", value=\"Jan\"), # any descriptive key-value pair, helps in filtering, key must have the prefix ext.ai.sap.com/\n",
    "    ],\n",
    "    resource_group = \"tf-demo\" # required to restrict object store secret usage within a resource group\n",
    ")\n",
    "\n",
    "print(response.__dict__)\n"
   ]
  }
 ],
 "metadata": {
  "kernelspec": {
   "display_name": "Python 3",
   "language": "python",
   "name": "python3"
  },
  "language_info": {
   "name": "python",
   "version": "3.9.2"
  },
  "orig_nbformat": 4
 },
 "nbformat": 4,
 "nbformat_minor": 2
}
